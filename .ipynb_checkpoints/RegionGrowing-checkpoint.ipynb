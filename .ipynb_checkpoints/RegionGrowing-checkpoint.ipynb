{
 "cells": [
  {
   "cell_type": "code",
   "execution_count": 1,
   "id": "389c0c14-21fe-4563-ab4f-9b905d98014a",
   "metadata": {},
   "outputs": [],
   "source": [
    "import cv2"
   ]
  },
  {
   "cell_type": "code",
   "execution_count": 2,
   "id": "ad27c1b0-f8f5-40a5-a756-51d7e0ccc4c5",
   "metadata": {},
   "outputs": [],
   "source": [
    "import numpy as np"
   ]
  },
  {
   "cell_type": "code",
   "execution_count": 3,
   "id": "91cbd725-2565-43ef-afd5-a232e6443f31",
   "metadata": {},
   "outputs": [],
   "source": [
    "def mouse_callback(event, x, y, flags, userdata):\n",
    "    if event == cv2.EVENT_LBUTTONDOWN:\n",
    "        seed_set.append((x, y))\n",
    "        p_image = userdata\n",
    "        color = (0, 0, 255)\n",
    "        cv2.circle(p_image, (x, y), 4, color, cv2.FILLED)\n",
    "        cv2.imshow(\"CT slice\", p_image)"
   ]
  },
  {
   "cell_type": "code",
   "execution_count": 4,
   "id": "2f6e3b90-c048-48a2-ae8f-4b3063b6d9e0",
   "metadata": {},
   "outputs": [],
   "source": [
    "def regionGrowing(image, aSeedSet, anInValue=255, tolerance=5):\n",
    "    #Set the pixels image to false\n",
    "    visited_matrix = np.zeros_like(image, dtype=np.uint8)\n",
    "\n",
    "    point_list = aSeedSet\n",
    "\n",
    "    while point_list:\n",
    "        this_point = point_list.pop()\n",
    "        x, y = this_point\n",
    "\n",
    "        #verify if the coordinates are in the image limit\n",
    "        if 0 <= x < image.shape[1] and 0 <= y < image.shape[0]:\n",
    "            #get the original pixel value\n",
    "            pixel_value = image[y, x]\n",
    "\n",
    "            #set the coordinates to the segmentation color\n",
    "            visited_matrix[y, x] = anInValue\n",
    "\n",
    "            for j in range(y - 1, y + 2):\n",
    "                if 0 <= j < image.shape[0]:\n",
    "                    for i in range(x - 1, x + 2):\n",
    "                        if 0 <= i < image.shape[1]:\n",
    "                            neighbour_value = image[j, i]\n",
    "                            neighbour_visited = visited_matrix[j, i]\n",
    "\n",
    "                            if not neighbour_visited and abs(int(neighbour_value) - int(pixel_value)) <= (tolerance / 100.0 * 255.0):\n",
    "                                point_list.append((i, j))\n",
    "\n",
    "    return visited_matrix\n"
   ]
  },
  {
   "cell_type": "code",
   "execution_count": 5,
   "id": "4864baba-1b33-47af-9a17-782233a14b99",
   "metadata": {},
   "outputs": [],
   "source": [
    "ct_slice = cv2.imread(\"assets/CT.png\", 0);\n",
    "seed_set = []\n",
    "colour_ct_slice = cv2.cvtColor(ct_slice, cv2.COLOR_GRAY2RGB)\n"
   ]
  },
  {
   "cell_type": "code",
   "execution_count": 6,
   "id": "50161804-ce38-4e42-9c6a-969f8f158b57",
   "metadata": {},
   "outputs": [],
   "source": [
    "cv2.namedWindow(\"CT slice\", cv2.WINDOW_AUTOSIZE)\n",
    "cv2.imshow(\"CT slice\", colour_ct_slice)\n",
    "cv2.setMouseCallback(\"CT slice\", mouse_callback, colour_ct_slice)\n",
    "cv2.waitKey(0)\n",
    "cv2.destroyAllWindows()\n",
    "print(\"Seed set:\", seed_set)"
   ]
  },
  {
   "cell_type": "code",
   "execution_count": 7,
   "id": "70bd3781-d81c-4314-9ee2-5d0854c05d31",
   "metadata": {},
   "outputs": [
    {
     "name": "stdout",
     "output_type": "stream",
     "text": [
      "Seed set: [(345, 209), (357, 271), (151, 222)]\n"
     ]
    }
   ],
   "source": [
    "\n",
    "\n",
    "segmented_image = regionGrowing(ct_slice, seed_set, 255, 2);\n",
    "\n",
    "cv2.namedWindow(\"Segmentation\", cv2.WINDOW_AUTOSIZE)  # Create a window\n",
    "cv2.imshow(\"Segmentation\", segmented_image)  # Show the segmented image inside the created window\n",
    "\n",
    "cv2.waitKey(0)  # Wait for any keystroke in the window\n",
    "\n",
    "cv2.destroyAllWindows()"
   ]
  },
  {
   "cell_type": "code",
   "execution_count": null,
   "id": "c86dd6be-8e30-41f6-87bf-d05ee7dba0b6",
   "metadata": {},
   "outputs": [],
   "source": []
  }
 ],
 "metadata": {
  "kernelspec": {
   "display_name": "Python lapisco-pdi",
   "language": "python",
   "name": "lapisco_pdi"
  },
  "language_info": {
   "codemirror_mode": {
    "name": "ipython",
    "version": 3
   },
   "file_extension": ".py",
   "mimetype": "text/x-python",
   "name": "python",
   "nbconvert_exporter": "python",
   "pygments_lexer": "ipython3",
   "version": "3.12.1"
  }
 },
 "nbformat": 4,
 "nbformat_minor": 5
}
